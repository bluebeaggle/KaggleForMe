{
 "cells": [
  {
   "cell_type": "code",
   "execution_count": null,
   "id": "9687c640",
   "metadata": {},
   "outputs": [],
   "source": [
    "'''\n",
    "Content\n",
    "1. Dataset check\n",
    "    1.1 Null data check\n",
    "    1.2 Target label check\n",
    "2. Exploratory data analysis\n",
    "    2.1 Pclass\n",
    "    2.2 Sex\n",
    "    2.3 Both Sex and Pclass\n",
    "    2.4 Age\n",
    "    2.5 Pclass, Sex, Age\n",
    "    2.6 Embarked\n",
    "    2.7 Family - SibSp(Brother & Sister) + Parch (Parents & Children)\n",
    "    2.8 Cabin\n",
    "'''"
   ]
  },
  {
   "cell_type": "code",
   "execution_count": null,
   "id": "535e6840",
   "metadata": {},
   "outputs": [],
   "source": [
    "'''\n",
    "만약 데이터 사이언스, 머신러닝 또는 캐글에서 어떤 것을 해야하는지 잘 모르는 newbie라면, 타이타닉을 하시는 게 가장 좋은 선택입니다.\n",
    "타이타닉은 아시다시피, 사상 최대 해난사고로써, 1,500여명의 희생자가 발생했습니다.\n",
    "우리는 이 튜토리얼에서 타이타닉에 탑승한 사람들의 신상정보를 활용하여, 승선한 사람들의 생존여부를 예측하는 모델을 생성할 것입니다.\n",
    "본 튜토리얼에서는 여러 시각화 도구(matplotlib, seabon, plotly), 데이터 분석 도구(pandas,nnumpy), 머신러닝 도구(sklearn)을 사용할 것 입니다.\n",
    "본 튜토리얼은 캐글에 있는 여러 커널들을 참조하여 만들었습니다.\n",
    "본 튜토리얼을 공부하신 뒤에, 캐글 타이타닉 컴퍼티션에 존재하는 여러 다른 커널들을 더 공부하시면 됩니다.\n",
    "본 튜토이얼은 파이썬 문법에 어려움이 없으셔야 수월할 것입니다.\n",
    "여기서 사용하는 라이브러리들을 써본 경험이 있으면 좋겠지만, 경험이 없다하더라도 한 줄씩 천천히 적어나가시면 충분히 하실 수 있습니다.\n",
    "'''"
   ]
  },
  {
   "cell_type": "code",
   "execution_count": null,
   "id": "b7deb1e7",
   "metadata": {},
   "outputs": [],
   "source": [
    "import numpy as np\n",
    "import pandas as pd\n",
    "import matplotlib.pyplot as plt\n",
    "import seaborn as sns\n",
    "\n",
    "plt.style.use('seaborn')\n",
    "sns.set(font_scale=2.5)\n",
    "'''\n",
    "위 두줄은 필자가 항상 쓰는 방법.\n",
    "matplotlib의 기본 scheme 말고 seaborn scheme을 세팅하고, 일일이 graph의 font size를 지정할 필요 없이\n",
    "seaborn의 font_size를 사용하면 편리함\n",
    "'''\n",
    "\n",
    "import missingo as msno\n",
    "\n",
    "#ignore warnings\n",
    "import warnings\n",
    "warnings.filterwarning('igonre')\n",
    "\n",
    "%matplotlib inline"
   ]
  },
  {
   "cell_type": "code",
   "execution_count": null,
   "id": "5a79ac64",
   "metadata": {},
   "outputs": [],
   "source": [
    "'''\n",
    "앞으로 진행할 프로세스는 다음과 같다\n",
    "1. 데이터셋 확인\n",
    "    - 대부분의 캐글 데이터들은 잘 정제되어 있음.\n",
    "    하지만 가끔, null data가 존재함.\n",
    "    이를 확인하고, 향후 수정\n",
    "2. 탐색적 데이터 분석 (exploratory data analysis)\n",
    "    - 여러 feature들을 개별적으로 분석하고, feature들 간의 상관관계를 확인\n",
    "    여러 시각화 툴을 사용하여 insight를 얻음\n",
    "3. feature engineering\n",
    "    - 모델을 세우기에 앞서, 모델의 성능을 높일 수 있도록 feature들을 engineering 함\n",
    "    one-hot, encoding, class로 나누기, 구간으로 나누기, 텍스트 데이터 처리 등을 함\n",
    "4. model 만들기\n",
    "    - sklearn을 사용해 모델을 만듬\n",
    "    파이썬 머신러닝을 할 때는 sklearn을 사용하면 수 많은 알고리즘을 일관된 문법으로 사용 가능\n",
    "    물론 딥러닝을 위해 tensorflow, pytorch 등을 사용 할 수 있음\n",
    "5. 모델 학습 및 예측\n",
    "    - trainset을 가지고 모델을 학습 시킨 후, testset을 가지고 prediction 실시\n",
    "6. 모델 평가\n",
    "    - 예측 성능이 원하는 수준인지 판단.\n",
    "    풀려는 문제에 따라 모델을 평가하는 방식도 달라짐\n",
    "    학습된 모델이 어떤 것을 학습하였는지 확인\n",
    "'''"
   ]
  },
  {
   "cell_type": "code",
   "execution_count": null,
   "id": "a8403106",
   "metadata": {},
   "outputs": [],
   "source": [
    "'''\n",
    "1. Dataset 확인\n",
    "    1.1 파이썬에서 테이블화 된 데이터를 다루는 데 가장 최적화 되어있으며, 많이 쓰는 라이브러리는 pandas이다\n",
    "    1.2 pandas를 사용하여 데이터셋의 간단한 통계적 분석부터, 복잡한 처리들을 간단한 메소드를 사용하여 할 수 있음.\n",
    "    1.3 캐글에서 데이터셋은 보통 train, testset으로 나뉘어져 있음.\n",
    "'''"
   ]
  },
  {
   "cell_type": "code",
   "execution_count": null,
   "id": "de0fd40d",
   "metadata": {},
   "outputs": [],
   "source": [
    "print('-----------------------Dataset check-----------------------')\n",
    "\n",
    "df_train = pd.read_csv('../input/train.csv')\n",
    "df_test = pd.read_csv('../input/test/csv')\n",
    "\n",
    "df_train.head()"
   ]
  },
  {
   "cell_type": "code",
   "execution_count": null,
   "id": "0b998d7c",
   "metadata": {},
   "outputs": [],
   "source": [
    "'''\n",
    "우리가 다루는 문제에서 feature는 Pclass, Age, SibSp, Parch, Fare 이며, 예측하려는 target label은 Survived 이다.\n",
    "pandas dataframe에는 describe() 메소드가 있는데, 이를 쓰면 각 feature가 가진 통계치들을 반환해 줌\n",
    "'''"
   ]
  },
  {
   "cell_type": "code",
   "execution_count": null,
   "id": "27eba83a",
   "metadata": {},
   "outputs": [],
   "source": [
    "df_train.describe()"
   ]
  },
  {
   "cell_type": "code",
   "execution_count": null,
   "id": "7717fcd6",
   "metadata": {},
   "outputs": [],
   "source": [
    "df_test.describe()"
   ]
  },
  {
   "cell_type": "code",
   "execution_count": 1,
   "id": "cc32b9e2",
   "metadata": {
    "ExecuteTime": {
     "end_time": "2023-05-03T15:04:56.698385Z",
     "start_time": "2023-05-03T15:04:56.691168Z"
    }
   },
   "outputs": [
    {
     "data": {
      "text/plain": [
       "'\\n테이블에서 보다시피, PassenserID 숫자와 다른, 그러니깐, null data가 존재하는 열(feature)가 있음\\n이를 좀 더 보기 편하게 그래프로 시각화하여 확인하기\\n'"
      ]
     },
     "execution_count": 1,
     "metadata": {},
     "output_type": "execute_result"
    }
   ],
   "source": [
    "'''\n",
    "테이블에서 보다시피, PassenserID 숫자와 다른, 그러니깐, null data가 존재하는 열(feature)가 있음\n",
    "이를 좀 더 보기 편하게 그래프로 시각화하여 확인하기\n",
    "'''"
   ]
  },
  {
   "cell_type": "code",
   "execution_count": 2,
   "id": "38c3c642",
   "metadata": {
    "ExecuteTime": {
     "end_time": "2023-05-03T15:05:38.603898Z",
     "start_time": "2023-05-03T15:05:38.597932Z"
    }
   },
   "outputs": [
    {
     "name": "stdout",
     "output_type": "stream",
     "text": [
      "\n",
      "1.1 Null data check\n",
      "\n"
     ]
    }
   ],
   "source": [
    "print('-----------------------1.1 Null data check-----------------------')\n",
    "\n",
    "for col in df_train.columns :\n",
    "    msg = 'column: {:>10}\\t Percent of NaN value: {:.2f}%'.format\n",
    "    (col, 100 * (df_train[col].isnull().sum() / df_train[col].shape[0]))\n",
    "    print(msg)\n",
    "    \n",
    "for col in df_test.columns :\n",
    "    msg = 'column: {:>10}\\t Percent of NaN value : {: .2f}%'.format(col, 100*(df_test[col].isnull().sum() / df_test[col].shape[0]))\n",
    "    print(msg)"
   ]
  },
  {
   "cell_type": "code",
   "execution_count": null,
   "id": "38b69c25",
   "metadata": {},
   "outputs": [],
   "source": [
    "'''\n",
    "Train, Test set에서 Age(둘다 약 20%), Cabin(둘다 약 80%), Embarked(Train만 0.22%) null data가 존재하는 것을 볼 수 있음.\n",
    "Mano 라는 라이브러리를 사용하면 null data의 존재를 더 쉽게 볼 수 있음.\n",
    "'''"
   ]
  },
  {
   "cell_type": "code",
   "execution_count": 3,
   "id": "10c5b8d5",
   "metadata": {
    "ExecuteTime": {
     "end_time": "2023-05-03T15:27:10.253782Z",
     "start_time": "2023-05-03T15:27:10.251395Z"
    }
   },
   "outputs": [
    {
     "ename": "SyntaxError",
     "evalue": "invalid syntax (2020871343.py, line 1)",
     "output_type": "error",
     "traceback": [
      "\u001b[0;36m  Cell \u001b[0;32mIn[3], line 1\u001b[0;36m\u001b[0m\n\u001b[0;31m    mamo.matrix(df=df_train.iloc[:. :], figsize=(8,8), color = (0.8, 0.5, 0.2))\u001b[0m\n\u001b[0m                                  ^\u001b[0m\n\u001b[0;31mSyntaxError\u001b[0m\u001b[0;31m:\u001b[0m invalid syntax\n"
     ]
    }
   ],
   "source": [
    "mamo.matrix(df=df_train.iloc[:. :], figsize=(8,8), color = (0.8, 0.5, 0.2))"
   ]
  },
  {
   "cell_type": "code",
   "execution_count": null,
   "id": "7f041d36",
   "metadata": {},
   "outputs": [],
   "source": [
    "mamo."
   ]
  },
  {
   "cell_type": "code",
   "execution_count": null,
   "id": "3d3c6cc8",
   "metadata": {},
   "outputs": [],
   "source": []
  },
  {
   "cell_type": "code",
   "execution_count": null,
   "id": "23a01517",
   "metadata": {},
   "outputs": [],
   "source": []
  },
  {
   "cell_type": "code",
   "execution_count": null,
   "id": "fc195754",
   "metadata": {},
   "outputs": [],
   "source": []
  },
  {
   "cell_type": "code",
   "execution_count": null,
   "id": "6462b0fb",
   "metadata": {},
   "outputs": [],
   "source": []
  },
  {
   "cell_type": "code",
   "execution_count": null,
   "id": "b3ca6112",
   "metadata": {},
   "outputs": [],
   "source": []
  }
 ],
 "metadata": {
  "kernelspec": {
   "display_name": "Python 3",
   "language": "python",
   "name": "python3"
  },
  "language_info": {
   "codemirror_mode": {
    "name": "ipython",
    "version": 3
   },
   "file_extension": ".py",
   "mimetype": "text/x-python",
   "name": "python",
   "nbconvert_exporter": "python",
   "pygments_lexer": "ipython3",
   "version": "3.9.16"
  }
 },
 "nbformat": 4,
 "nbformat_minor": 5
}
